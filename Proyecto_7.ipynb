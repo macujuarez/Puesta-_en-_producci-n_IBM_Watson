{
 "cells": [
  {
   "cell_type": "markdown",
   "metadata": {},
   "source": [
    "# Proyecto 7: Deploy de sistema de recomendación con Watson\n",
    "\n",
    "En este proyecto llevaremos a cabo la puesta en producción del modelo entrenado en el proyecto 5. Es decir, lo subirmos la nube de IBM y utilizando llamados a la API de Watson tendremos acceso a él para realizar predicciones."
   ]
  },
  {
   "cell_type": "code",
   "execution_count": 1,
   "metadata": {},
   "outputs": [],
   "source": [
    "import warnings\n",
    "warnings.filterwarnings(\"ignore\")\n",
    "import sklearn\n",
    "from sklearn.datasets import load_files\n",
    "moviedir = r'./dataset/movie_reviews' \n",
    "movie_reviews = load_files(moviedir, shuffle=True)"
   ]
  },
  {
   "cell_type": "code",
   "execution_count": 2,
   "metadata": {},
   "outputs": [],
   "source": [
    "from sklearn.model_selection import train_test_split\n",
    "X_train, X_test, y_train, y_test = train_test_split(\n",
    "    movie_reviews.data, movie_reviews.target, test_size = 0.20, stratify=movie_reviews.target, random_state = 12)"
   ]
  },
  {
   "cell_type": "code",
   "execution_count": 3,
   "metadata": {},
   "outputs": [
    {
     "name": "stderr",
     "output_type": "stream",
     "text": [
      "C:\\Users\\Agos\\Anaconda3\\lib\\site-packages\\sklearn\\externals\\joblib\\__init__.py:15: DeprecationWarning: sklearn.externals.joblib is deprecated in 0.21 and will be removed in 0.23. Please import this functionality directly from joblib, which can be installed with: pip install joblib. If this warning is raised when loading pickled models, you may need to re-serialize those models with scikit-learn 0.21+.\n",
      "  warnings.warn(msg, category=DeprecationWarning)\n"
     ]
    }
   ],
   "source": [
    "from sklearn.externals import joblib\n",
    "eclf = joblib.load('sentiment.pkl')"
   ]
  },
  {
   "cell_type": "markdown",
   "metadata": {},
   "source": [
    "IBM Watson"
   ]
  },
  {
   "cell_type": "markdown",
   "metadata": {},
   "source": [
    "**1) Cargá** la biblioteca `WatsonMachineLearningAPIClient`"
   ]
  },
  {
   "cell_type": "code",
   "execution_count": 4,
   "metadata": {},
   "outputs": [
    {
     "name": "stdout",
     "output_type": "stream",
     "text": [
      "Requirement already satisfied: watson-machine-learning-client-V4 in c:\\users\\agos\\anaconda3\\lib\\site-packages (1.0.34)\n",
      "Requirement already satisfied: tabulate in c:\\users\\agos\\anaconda3\\lib\\site-packages (from watson-machine-learning-client-V4) (0.8.3)\n",
      "Requirement already satisfied: tqdm in c:\\users\\agos\\anaconda3\\lib\\site-packages (from watson-machine-learning-client-V4) (4.32.1)\n",
      "Requirement already satisfied: requests in c:\\users\\agos\\anaconda3\\lib\\site-packages (from watson-machine-learning-client-V4) (2.22.0)\n",
      "Requirement already satisfied: ibm-cos-sdk in c:\\users\\agos\\anaconda3\\lib\\site-packages (from watson-machine-learning-client-V4) (2.5.3)\n",
      "Requirement already satisfied: urllib3 in c:\\users\\agos\\anaconda3\\lib\\site-packages (from watson-machine-learning-client-V4) (1.24.2)\n",
      "Requirement already satisfied: certifi in c:\\users\\agos\\anaconda3\\lib\\site-packages (from watson-machine-learning-client-V4) (2019.6.16)\n",
      "Requirement already satisfied: lomond in c:\\users\\agos\\anaconda3\\lib\\site-packages (from watson-machine-learning-client-V4) (0.3.3)\n",
      "Requirement already satisfied: pandas in c:\\users\\agos\\anaconda3\\lib\\site-packages (from watson-machine-learning-client-V4) (0.25.1)\n",
      "Requirement already satisfied: chardet<3.1.0,>=3.0.2 in c:\\users\\agos\\anaconda3\\lib\\site-packages (from requests->watson-machine-learning-client-V4) (3.0.4)\n",
      "Requirement already satisfied: idna<2.9,>=2.5 in c:\\users\\agos\\anaconda3\\lib\\site-packages (from requests->watson-machine-learning-client-V4) (2.8)\n",
      "Requirement already satisfied: ibm-cos-sdk-s3transfer>=2.0.0 in c:\\users\\agos\\anaconda3\\lib\\site-packages (from ibm-cos-sdk->watson-machine-learning-client-V4) (2.5.3)\n",
      "Requirement already satisfied: jmespath<1.0.0,>=0.7.1 in c:\\users\\agos\\anaconda3\\lib\\site-packages (from ibm-cos-sdk->watson-machine-learning-client-V4) (0.9.4)\n",
      "Requirement already satisfied: ibm-cos-sdk-core>=2.0.0 in c:\\users\\agos\\anaconda3\\lib\\site-packages (from ibm-cos-sdk->watson-machine-learning-client-V4) (2.5.3)\n",
      "Requirement already satisfied: six>=1.10.0 in c:\\users\\agos\\anaconda3\\lib\\site-packages (from lomond->watson-machine-learning-client-V4) (1.12.0)\n",
      "Requirement already satisfied: numpy>=1.13.3 in c:\\users\\agos\\anaconda3\\lib\\site-packages (from pandas->watson-machine-learning-client-V4) (1.16.4)\n",
      "Requirement already satisfied: python-dateutil>=2.6.1 in c:\\users\\agos\\anaconda3\\lib\\site-packages (from pandas->watson-machine-learning-client-V4) (2.8.0)\n",
      "Requirement already satisfied: pytz>=2017.2 in c:\\users\\agos\\anaconda3\\lib\\site-packages (from pandas->watson-machine-learning-client-V4) (2019.2)\n",
      "Requirement already satisfied: docutils>=0.10 in c:\\users\\agos\\anaconda3\\lib\\site-packages (from ibm-cos-sdk-core>=2.0.0->ibm-cos-sdk->watson-machine-learning-client-V4) (0.15.2)\n"
     ]
    }
   ],
   "source": [
    "!pip install watson-machine-learning-client-V4"
   ]
  },
  {
   "cell_type": "code",
   "execution_count": 5,
   "metadata": {},
   "outputs": [],
   "source": [
    "from watson_machine_learning_client import WatsonMachineLearningAPIClient"
   ]
  },
  {
   "cell_type": "markdown",
   "metadata": {},
   "source": [
    "**2) Creá** variable con las credenciales que necesita `Watson`. Ellas son: `url, access_key, username, password e instance_id`"
   ]
  },
  {
   "cell_type": "code",
   "execution_count": 8,
   "metadata": {},
   "outputs": [],
   "source": [
    "wml_credentials={\n",
    "  \"apikey\": \"jdzno0muHH6dPhb-8AVQlx_lJ8MOEEmwFc6F_iZ5y0pK\",\n",
    "  \"iam_apikey_description\": \"Auto-generated for key d0fdee3f-3974-4cf4-80f0-c8c611124e08\",\n",
    "  \"iam_apikey_name\": \"Credenciales de servicio-1\",\n",
    "  \"iam_role_crn\": \"crn:v1:bluemix:public:iam::::serviceRole:Manager\",\n",
    "  \"iam_serviceid_crn\": \"crn:v1:bluemix:public:iam-identity::a/2b254c8a14da4cafba3399d4a8930c34::serviceid:ServiceId-ba9dd4b8-45b3-4315-800f-c33dd6dde44c\",\n",
    "  \"instance_id\": \"a4c0500f-73cc-4dd7-acd9-7d95136f5bc4\",\n",
    "  \"url\": \"https://us-south.ml.cloud.ibm.com\"\n",
    "}\n"
   ]
  },
  {
   "cell_type": "markdown",
   "metadata": {},
   "source": [
    "**3) Declará** la variable `client` y guardá en ella al objeto `WatsonMachineLearningAPIClient` con las credenciales como parámetro"
   ]
  },
  {
   "cell_type": "code",
   "execution_count": 9,
   "metadata": {},
   "outputs": [],
   "source": [
    "client = WatsonMachineLearningAPIClient(wml_credentials)"
   ]
  },
  {
   "cell_type": "markdown",
   "metadata": {},
   "source": [
    "**4) Creá** una variable que guarde las propiedades del modelo. Datos del autor y nombre del proyecto."
   ]
  },
  {
   "cell_type": "code",
   "execution_count": 16,
   "metadata": {},
   "outputs": [],
   "source": [
    "model_props = {client.repository.ModelMetaNames.NAME: \"Reviews classification\",\n",
    "               client.repository.ModelMetaNames.DESCRIPTION: \"Reviews classification\",\n",
    "               client.repository.ModelMetaNames.TYPE: \"scikit-learn_0.20\", \n",
    "               client.repository.ModelMetaNames.RUNTIME_UID: \"scikit-learn_0.20-py3.6\"\n",
    "               }\n"
   ]
  },
  {
   "cell_type": "markdown",
   "metadata": {},
   "source": [
    "**5) Hacé** un pipeline que contenga como primer paso a un `TfidfVectorizer` y como segundo paso, al mejor modelo que hayas obtenido en el proyecto 5. **Entrená** con este pipeline."
   ]
  },
  {
   "cell_type": "code",
   "execution_count": 13,
   "metadata": {},
   "outputs": [
    {
     "data": {
      "text/plain": [
       "Pipeline(memory=None,\n",
       "         steps=[('tfidfvectorizer',\n",
       "                 TfidfVectorizer(analyzer='word', binary=False,\n",
       "                                 decode_error='strict',\n",
       "                                 dtype=<class 'numpy.float64'>,\n",
       "                                 encoding='utf-8', input='content',\n",
       "                                 lowercase=True, max_df=1.0, max_features=None,\n",
       "                                 min_df=1, ngram_range=(1, 1), norm='l2',\n",
       "                                 preprocessor=None, smooth_idf=True,\n",
       "                                 stop_words=None, strip_accents=None,\n",
       "                                 sublinear_tf=False,\n",
       "                                 token...\n",
       "                                                             n_iter_no_change=10,\n",
       "                                                             nesterovs_momentum=True,\n",
       "                                                             power_t=0.5,\n",
       "                                                             random_state=42,\n",
       "                                                             shuffle=True,\n",
       "                                                             solver='adam',\n",
       "                                                             tol=0.0001,\n",
       "                                                             validation_fraction=0.1,\n",
       "                                                             verbose=False,\n",
       "                                                             warm_start=False)),\n",
       "                                              ('ada',\n",
       "                                               AdaBoostClassifier(algorithm='SAMME.R',\n",
       "                                                                  base_estimator=None,\n",
       "                                                                  learning_rate=1.0,\n",
       "                                                                  n_estimators=500,\n",
       "                                                                  random_state=None))],\n",
       "                                  flatten_transform=True, n_jobs=None,\n",
       "                                  voting='hard', weights=None))],\n",
       "         verbose=False)"
      ]
     },
     "execution_count": 13,
     "metadata": {},
     "output_type": "execute_result"
    }
   ],
   "source": [
    "from sklearn.pipeline import make_pipeline\n",
    "from sklearn.feature_extraction.text import TfidfVectorizer\n",
    "vect = TfidfVectorizer()\n",
    "pipeline = make_pipeline(vect, eclf)\n",
    "pipeline.fit(X_train, y_train)"
   ]
  },
  {
   "cell_type": "code",
   "execution_count": 14,
   "metadata": {},
   "outputs": [],
   "source": [
    "from sklearn.model_selection import train_test_split\n",
    "X_train, X_test, y_train, y_test = train_test_split(\n",
    "    movie_reviews.data, movie_reviews.target, test_size = 0.20, stratify=movie_reviews.target, random_state = 12)"
   ]
  },
  {
   "cell_type": "markdown",
   "metadata": {},
   "source": [
    "**6) Subí** al modelo a IBM Cloud usando `client.repository.store_model` con los parámetros correctos."
   ]
  },
  {
   "cell_type": "code",
   "execution_count": 17,
   "metadata": {},
   "outputs": [],
   "source": [
    "published_model = client.repository.store_model(model=pipeline, \n",
    "                                                meta_props=model_props, \n",
    "                                                training_data=X_train, \n",
    "                                                training_target=y_train)\n"
   ]
  },
  {
   "cell_type": "markdown",
   "metadata": {},
   "source": [
    "**7) Obtené** el `uid` del modelo y guardalo en una variable."
   ]
  },
  {
   "cell_type": "code",
   "execution_count": 18,
   "metadata": {},
   "outputs": [],
   "source": [
    "published_model_uid = client.repository.get_model_uid(published_model)\n",
    "model_details = client.repository.get_details(published_model_uid)"
   ]
  },
  {
   "cell_type": "code",
   "execution_count": 19,
   "metadata": {
    "scrolled": true
   },
   "outputs": [
    {
     "name": "stdout",
     "output_type": "stream",
     "text": [
      "------------------------------------  ----------------------  ------------------------  -----------------\n",
      "GUID                                  NAME                    CREATED                   TYPE\n",
      "f20d724d-84f2-475a-8127-86a2a8494595  Reviews classification  2019-09-05T00:56:35.479Z  scikit-learn_0.20\n",
      "------------------------------------  ----------------------  ------------------------  -----------------\n"
     ]
    }
   ],
   "source": [
    "models_details = client.repository.list_models()"
   ]
  },
  {
   "cell_type": "markdown",
   "metadata": {},
   "source": [
    "**8) Cargá** el modelo basado en su `uid` y utilizalo para realizar la predicción sobre el conjunto de test"
   ]
  },
  {
   "cell_type": "code",
   "execution_count": null,
   "metadata": {},
   "outputs": [],
   "source": [
    "loaded_model = client.repository.load(published_model_uid)\n",
    "test_predictions = loaded_model.predict(X_test)"
   ]
  },
  {
   "cell_type": "markdown",
   "metadata": {},
   "source": [
    "**9) Mostrar** el `classification_report` obtenido"
   ]
  },
  {
   "cell_type": "code",
   "execution_count": null,
   "metadata": {},
   "outputs": [],
   "source": [
    "from sklearn.metrics import roc_auc_score\n",
    "from sklearn.metrics import classification_report\n",
    "\n",
    "print(\"roc_auc score: \", roc_auc_score(y_test, test_predictions))\n",
    "print(classification_report(y_test, test_predictions))"
   ]
  }
 ],
 "metadata": {
  "kernelspec": {
   "display_name": "Python 3",
   "language": "python",
   "name": "python3"
  },
  "language_info": {
   "codemirror_mode": {
    "name": "ipython",
    "version": 3
   },
   "file_extension": ".py",
   "mimetype": "text/x-python",
   "name": "python",
   "nbconvert_exporter": "python",
   "pygments_lexer": "ipython3",
   "version": "3.7.3"
  }
 },
 "nbformat": 4,
 "nbformat_minor": 4
}
